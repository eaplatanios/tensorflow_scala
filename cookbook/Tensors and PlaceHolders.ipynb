{
 "cells": [
  {
   "cell_type": "markdown",
   "metadata": {},
   "source": [
    "### Add TensorFlow Depenciese"
   ]
  },
  {
   "cell_type": "code",
   "execution_count": 8,
   "metadata": {},
   "outputs": [
    {
     "name": "stdout",
     "output_type": "stream",
     "text": [
      "Marking org.platanios:tensorflow_2.12:0.1.0-SNAPSHOT for download\n",
      "Preparing to fetch from:\n",
      "-> file:/tmp/toree-tmp-dir3385205836966184036/toree_add_deps/\n",
      "-> https://oss.sonatype.org/content/repositories/snapshots\n",
      "-> https://repo1.maven.org/maven2\n",
      "Marking org.platanios:tensorflow_2.12:0.1.0-SNAPSHOT for download\n",
      "Preparing to fetch from:\n",
      "-> file:/tmp/toree-tmp-dir3385205836966184036/toree_add_deps/\n",
      "-> https://oss.sonatype.org/content/repositories/snapshots\n",
      "-> https://repo1.maven.org/maven2\n",
      "(Current Scala VErsion: ,version 2.11.8)\n"
     ]
    }
   ],
   "source": [
    "%AddDeps org.platanios tensorflow_2.12 0.1.0-SNAPSHOT --repository https://oss.sonatype.org/content/repositories/snapshots\n",
    "%AddDeps org.platanios tensorflow_2.12 0.1.0-SNAPSHOT --classifier linux-cpu-x86_64 --repository https://oss.sonatype.org/content/repositories/snapshots\n",
    "\n",
    "println(\"Current Scala Version: \" , util.Properties.versionString)"
   ]
  },
  {
   "cell_type": "markdown",
   "metadata": {},
   "source": [
    "# Tensors"
   ]
  },
  {
   "cell_type": "code",
   "execution_count": 1,
   "metadata": {},
   "outputs": [
    {
     "name": "stdout",
     "output_type": "stream",
     "text": [
      "2017-10-01 20:28:43.121448: W tensorflow/core/platform/cpu_feature_guard.cc:45] The TensorFlow library wasn't compiled to use SSE4.1 instructions, but these are available on your machine and could speed up CPU computations.\n",
      "2017-10-01 20:28:43.121477: W tensorflow/core/platform/cpu_feature_guard.cc:45] The TensorFlow library wasn't compiled to use SSE4.2 instructions, but these are available on your machine and could speed up CPU computations.\n",
      "2017-10-01 20:28:43.121482: W tensorflow/core/platform/cpu_feature_guard.cc:45] The TensorFlow library wasn't compiled to use AVX instructions, but these are available on your machine and could speed up CPU computations.\n",
      "2017-10-01 20:28:43.121486: W tensorflow/core/platform/cpu_feature_guard.cc:45] The TensorFlow library wasn't compiled to use AVX2 instructions, but these are available on your machine and could speed up CPU computations.\n",
      "2017-10-01 20:28:43.121489: W tensorflow/core/platform/cpu_feature_guard.cc:45] The TensorFlow library wasn't compiled to use FMA instructions, but these are available on your machine and could speed up CPU computations.\n",
      "2017-10-01 20:28:43.492038: I tensorflow/stream_executor/cuda/cuda_gpu_executor.cc:893] successful NUMA node read from SysFS had negative value (-1), but there must be at least one NUMA node, so returning NUMA node zero\n",
      "2017-10-01 20:28:43.492786: I tensorflow/core/common_runtime/gpu/gpu_device.cc:940] Found device 0 with properties: \n",
      "name: GeForce 830M\n",
      "major: 5 minor: 0 memoryClockRate (GHz) 1.15\n",
      "pciBusID 0000:04:00.0\n",
      "Total memory: 1.96GiB\n",
      "Free memory: 1.67GiB\n",
      "2017-10-01 20:28:43.492817: I tensorflow/core/common_runtime/gpu/gpu_device.cc:961] DMA: 0 \n",
      "2017-10-01 20:28:43.492827: I tensorflow/core/common_runtime/gpu/gpu_device.cc:971] 0:   Y \n",
      "2017-10-01 20:28:43.492846: I tensorflow/core/common_runtime/gpu/gpu_device.cc:1030] Creating TensorFlow device (/gpu:0) -> (device: 0, name: GeForce 830M, pci bus id: 0000:04:00.0)\n"
     ]
    }
   ],
   "source": [
    "%%pyspark\n",
    "import tensorflow as tf"
   ]
  },
  {
   "cell_type": "code",
   "execution_count": 2,
   "metadata": {},
   "outputs": [
    {
     "data": {
      "text/plain": [
       "logger = com.typesafe.scalalogging.Logger@29f378f8\n"
      ]
     },
     "metadata": {},
     "output_type": "display_data"
    },
    {
     "data": {
      "text/plain": [
       "com.typesafe.scalalogging.Logger@29f378f8"
      ]
     },
     "execution_count": 2,
     "metadata": {},
     "output_type": "execute_result"
    }
   ],
   "source": [
    "import org.platanios.tensorflow.api._\n",
    "import org.platanios.tensorflow.api.ops.variables.ConstantInitializer"
   ]
  },
  {
   "cell_type": "code",
   "execution_count": 3,
   "metadata": {},
   "outputs": [
    {
     "data": {
      "text/plain": [
       "session = Session(org.platanios.tensorflow.api.core.Graph$Reference@5eccc2c8,140683471779584)\n"
      ]
     },
     "metadata": {},
     "output_type": "display_data"
    },
    {
     "data": {
      "text/plain": [
       "Session(org.platanios.tensorflow.api.core.Graph$Reference@5eccc2c8,140683471779584)"
      ]
     },
     "execution_count": 3,
     "metadata": {},
     "output_type": "execute_result"
    }
   ],
   "source": [
    "val session = tf.Session()"
   ]
  },
  {
   "cell_type": "code",
   "execution_count": 18,
   "metadata": {
    "collapsed": true
   },
   "outputs": [],
   "source": [
    "%%pyspark\n",
    "import tensorflow as tf\n",
    "import numpy as np"
   ]
  },
  {
   "cell_type": "code",
   "execution_count": 1,
   "metadata": {},
   "outputs": [
    {
     "data": {
      "text/plain": [
       "[[ 0.  0.  0.  0.]\n",
       " [ 0.  0.  0.  0.]\n",
       " [ 0.  0.  0.  0.]]"
      ]
     },
     "execution_count": 1,
     "metadata": {},
     "output_type": "execute_result"
    }
   ],
   "source": [
    "%%pyspark\n",
    "sess = tf.Session()\n",
    "my_tensor = tf.zeros([3,4])\n",
    "sess.run(my_tensor)"
   ]
  },
  {
   "cell_type": "code",
   "execution_count": 2,
   "metadata": {},
   "outputs": [
    {
     "data": {
      "text/plain": [
       "myTensor = Output(name = Zeros_2:0, shape = [3, 4], dataType = INT32)\n"
      ]
     },
     "metadata": {},
     "output_type": "display_data"
    },
    {
     "data": {
      "text/plain": [
       "INT32[3, 4]"
      ]
     },
     "execution_count": 2,
     "metadata": {},
     "output_type": "execute_result"
    }
   ],
   "source": [
    "val myTensor = tf.zeros(Shape(3, 4), INT32)\n",
    "//We can evaluate tensors with calling a run() method on our session.\n",
    "session.run(fetches = myTensor).toString"
   ]
  },
  {
   "cell_type": "code",
   "execution_count": 3,
   "metadata": {},
   "outputs": [
    {
     "data": {
      "text/plain": [
       "INT32[3, 4]\n",
       "[[0, 0, 0, 0],\n",
       " [0, 0, 0, 0],\n",
       " [0, 0, 0, 0]]"
      ]
     },
     "execution_count": 3,
     "metadata": {},
     "output_type": "execute_result"
    }
   ],
   "source": [
    "session.run(fetches = myTensor).summarize()"
   ]
  },
  {
   "cell_type": "code",
   "execution_count": 40,
   "metadata": {},
   "outputs": [
    {
     "data": {
      "text/plain": [
       "myVar = myVar\n"
      ]
     },
     "metadata": {},
     "output_type": "display_data"
    },
    {
     "data": {
      "text/plain": [
       "FLOAT32[3, 4]\n",
       "[[0.0, 0.0, 0.0, 0.0],\n",
       " [0.0, 0.0, 0.0, 0.0],\n",
       " [0.0, 0.0, 0.0, 0.0]]"
      ]
     },
     "execution_count": 40,
     "metadata": {},
     "output_type": "execute_result"
    }
   ],
   "source": [
    "//TensorFlow algorithms need to know which objects are variables and which are constants.\n",
    "val myVar = tf.variable(\"myVar\", FLOAT32, Shape(3, 4), tf.zerosInitializer)\n",
    "\n",
    "//Note that you can not run sess.run(my_var), this would result in an error.\n",
    "// Because TensorFlow operates with computational graphs, we have to create a variable\n",
    "// intialization operation in order to evaluate variables.\n",
    "// We will see more of this later on. For this script,\n",
    "// we can initialize one variable at a time by calling the variable method my_var.initializer.\n",
    "session.run(targets = myVar.initializer)\n",
    "session.run(fetches = myVar.value).summarize()"
   ]
  },
  {
   "cell_type": "code",
   "execution_count": 38,
   "metadata": {},
   "outputs": [
    {
     "data": {
      "text/plain": [
       "fillVar = fillVar\n"
      ]
     },
     "metadata": {},
     "output_type": "display_data"
    },
    {
     "data": {
      "text/plain": [
       "FLOAT32[4, 4]\n",
       "[[-1.0, -1.0, -1.0, -1.0],\n",
       " [-1.0, -1.0, -1.0, -1.0],\n",
       " [-1.0, -1.0, -1.0, -1.0],\n",
       " [-1.0, -1.0, -1.0, -1.0]]"
      ]
     },
     "execution_count": 38,
     "metadata": {},
     "output_type": "execute_result"
    }
   ],
   "source": [
    "val fillVar = tf.variable(\"fillVar\", FLOAT32,  Shape(4,4), initializer=ConstantInitializer(-1))\n",
    "session.run(targets = fillVar.initializer)\n",
    "session.run(fetches = fillVar.value).summarize()"
   ]
  },
  {
   "cell_type": "code",
   "execution_count": 14,
   "metadata": {},
   "outputs": [
    {
     "data": {
      "text/plain": [
       "(array([[-0.828915  , -0.50810468, -1.04087484, -0.87839603],\n",
       "       [-2.45272708, -1.00814497,  0.45904839,  0.75511128],\n",
       "       [-0.72185045, -0.56020445,  0.85645306, -1.8109163 ],\n",
       "       [-0.45914441, -0.28174588,  0.60512108, -1.82534993]], dtype=float32), array([[ 3.70811415,  1.14646053,  3.12337112,  1.07430506],\n",
       "       [ 0.71988201,  3.74687433,  2.47542191,  3.07459593],\n",
       "       [ 2.95685101,  2.33427668,  3.21082687,  1.55605984],\n",
       "       [ 3.3607049 ,  1.04114008,  1.14327908,  3.55917978]], dtype=float32))"
      ]
     },
     "execution_count": 14,
     "metadata": {},
     "output_type": "execute_result"
    }
   ],
   "source": [
    "%%pyspark\n",
    "rnorm_var = tf.random_normal([4, 4], mean=0.0, stddev=1.0)\n",
    "runif_var = tf.random_uniform([4, 4], minval=0, maxval=4)\n",
    "# //For some reason python print is not getting printed, hence now print in following line\n",
    "sess.run(rnorm_var), sess.run(runif_var)"
   ]
  },
  {
   "cell_type": "code",
   "execution_count": 36,
   "metadata": {},
   "outputs": [
    {
     "data": {
      "text/plain": [
       "randomNormalizedTensor = Output(name = RandomNormal_5/Add:0, shape = [3, 3], dataType = FLOAT32)\n"
      ]
     },
     "metadata": {},
     "output_type": "display_data"
    },
    {
     "data": {
      "text/plain": [
       "FLOAT32[3, 3]"
      ]
     },
     "execution_count": 36,
     "metadata": {},
     "output_type": "execute_result"
    }
   ],
   "source": [
    "//Random number Tensors\n",
    "val randomNormalizedTensor = tf.randomNormal(shape=Shape(3,3))\n",
    "session.run(fetches = randomNormalizedTensor).toString"
   ]
  },
  {
   "cell_type": "code",
   "execution_count": 37,
   "metadata": {},
   "outputs": [
    {
     "data": {
      "text/plain": [
       "FLOAT32[3, 3]\n",
       "[[-1.4023938, -1.4343731, 0.30504042],\n",
       " [-0.28787678, -1.0420817, 0.9471271],\n",
       " [-0.77256095, -1.0359018, -0.33004028]]"
      ]
     },
     "execution_count": 37,
     "metadata": {},
     "output_type": "execute_result"
    }
   ],
   "source": [
    "session.run(fetches = randomNormalizedTensor).summarize()"
   ]
  },
  {
   "cell_type": "markdown",
   "metadata": {},
   "source": [
    "# PlaceHolders"
   ]
  },
  {
   "cell_type": "code",
   "execution_count": 20,
   "metadata": {},
   "outputs": [
    {
     "data": {
      "text/plain": [
       "[[ 0.02678457  0.38198191  0.65543461  0.59586072]\n",
       " [ 0.4504922   0.15288144  0.68403876  0.1298219 ]\n",
       " [ 0.64243126  0.93652087  0.29207686  0.51912475]\n",
       " [ 0.6084832   0.87546676  0.43247786  0.07193492]]"
      ]
     },
     "execution_count": 20,
     "metadata": {},
     "output_type": "execute_result"
    }
   ],
   "source": [
    "%%pyspark\n",
    "x = tf.placeholder(tf.float32, shape=(4, 4))\n",
    "\n",
    "# //Get graph handle with the tf.Session()\n",
    "# //Input data to placeholder, note that 'rand_array' and 'x' are the same shape.\n",
    "rand_array = np.random.rand(4, 4)\n",
    "\n",
    "# //Create a Tensor to perform an operation (here, y will be equal to x, a 4x4 matrix)\n",
    "y = tf.identity(x)\n",
    "\n",
    "# //Print the output, feeding the value of x into the computational graph\n",
    "sess.run(y, feed_dict={x: rand_array})"
   ]
  },
  {
   "cell_type": "code",
   "execution_count": 30,
   "metadata": {},
   "outputs": [
    {
     "data": {
      "text/plain": [
       "x = Output(name = Placeholder_1:0, shape = [3, 3], dataType = FLOAT64)\n",
       "y = Output(name = Identity_1/Identity:0, shape = [3, 3], dataType = FLOAT64)\n",
       "tensor2 = FLOAT64[3, 3, 1]\n",
       "feed_dict = Map(Output(name = Placeholder_1:0, shape = [3, 3], dataType = FLOAT64) -> FLOAT64[3, 3, 1])\n"
      ]
     },
     "metadata": {},
     "output_type": "display_data"
    },
    {
     "data": {
      "text/plain": [
       "FLOAT64[3, 3, 1]\n",
       "[[[2.0],\n",
       "  [0.0],\n",
       "  [5.0]],\n",
       "\n",
       " [[1.0],\n",
       "  [4.0],\n",
       "  [7.0]],\n",
       "\n",
       " [[56.0],\n",
       "  [-2.0],\n",
       "  [-9.0]]]"
      ]
     },
     "execution_count": 30,
     "metadata": {},
     "output_type": "execute_result"
    }
   ],
   "source": [
    "val x = tf.placeholder(FLOAT64, shape = Shape(3,3))\n",
    "\n",
    "val y = tf.identity(x)\n",
    "\n",
    "val tensor2 = Tensor(Tensor(Tensor(2.0), Tensor(0.0), Tensor(5.0)),\n",
    "                    Tensor(Tensor(1.0), Tensor(4.0), Tensor(7.0)),\n",
    "                    Tensor(Tensor(56.0), Tensor(-2.0), Tensor(-9.0)))\n",
    "\n",
    "session.run(targets = tf.globalVariablesInitializer())\n",
    "val feed_dict = Map(x -> tensor2)\n",
    "session.run(feeds = feed_dict, fetches = y).summarize()"
   ]
  },
  {
   "cell_type": "markdown",
   "metadata": {},
   "source": [
    "# Matrices"
   ]
  },
  {
   "cell_type": "code",
   "execution_count": 29,
   "metadata": {},
   "outputs": [
    {
     "data": {
      "text/plain": [
       "[[ 1.  0.  0.  0.  0.]\n",
       " [ 0.  2.  0.  0.  0.]\n",
       " [ 0.  0.  3.  0.  0.]\n",
       " [ 0.  0.  0.  4.  0.]\n",
       " [ 0.  0.  0.  0.  5.]]"
      ]
     },
     "execution_count": 29,
     "metadata": {},
     "output_type": "execute_result"
    }
   ],
   "source": [
    "%%pyspark\n",
    "identity_matrix = tf.diag([1.0,2.0,3.0,4.0,5.0])\n",
    "sess.run(identity_matrix)"
   ]
  },
  {
   "cell_type": "code",
   "execution_count": 28,
   "metadata": {},
   "outputs": [
    {
     "data": {
      "text/plain": [
       "identityMatrix = Output(name = Diag_1:0, shape = [5, 5], dataType = INT32)\n"
      ]
     },
     "metadata": {},
     "output_type": "display_data"
    },
    {
     "data": {
      "text/plain": [
       "INT32[5, 5]\n",
       "[[1, 0, 0, 0, 0],\n",
       " [0, 2, 0, 0, 0],\n",
       " [0, 0, 3, 0, 0],\n",
       " [0, 0, 0, 4, 0],\n",
       " [0, 0, 0, 0, 5]]"
      ]
     },
     "execution_count": 28,
     "metadata": {},
     "output_type": "execute_result"
    }
   ],
   "source": [
    "val identityMatrix = tf.diag(Array(1,2,3,4,5))\n",
    "session.run(fetches = identityMatrix).summarize()"
   ]
  },
  {
   "cell_type": "code",
   "execution_count": 24,
   "metadata": {},
   "outputs": [
    {
     "data": {
      "text/plain": [
       "[[ 5.  5.  5.]\n",
       " [ 5.  5.  5.]]"
      ]
     },
     "execution_count": 24,
     "metadata": {},
     "output_type": "execute_result"
    }
   ],
   "source": [
    "%%pyspark\n",
    "B = tf.fill([2,3], 5.0)\n",
    "sess.run(B)"
   ]
  },
  {
   "cell_type": "code",
   "execution_count": 27,
   "metadata": {},
   "outputs": [
    {
     "data": {
      "text/plain": [
       "fill = Output(name = Fill_1:0, shape = [3, 3], dataType = INT32)\n"
      ]
     },
     "metadata": {},
     "output_type": "display_data"
    },
    {
     "data": {
      "text/plain": [
       "INT32[3, 3]\n",
       "[[5, 5, 5],\n",
       " [5, 5, 5],\n",
       " [5, 5, 5]]"
      ]
     },
     "execution_count": 27,
     "metadata": {},
     "output_type": "execute_result"
    }
   ],
   "source": [
    "val fill = tf.fill(shape = Shape(3,3), 5)\n",
    "session.run(fetches = fill).summarize()"
   ]
  },
  {
   "cell_type": "code",
   "execution_count": 43,
   "metadata": {},
   "outputs": [
    {
     "data": {
      "text/plain": [
       "[[ 0.51009226  0.7223177 ]\n",
       " [ 0.38323283  0.95759487]\n",
       " [ 0.96507931  0.47849178]]"
      ]
     },
     "execution_count": 43,
     "metadata": {},
     "output_type": "execute_result"
    }
   ],
   "source": [
    "%%pyspark\n",
    "C = tf.random_uniform([3,2])\n",
    "sess.run(C)\n"
   ]
  },
  {
   "cell_type": "code",
   "execution_count": 44,
   "metadata": {},
   "outputs": [
    {
     "data": {
      "text/plain": [
       "randMatrix = Output(name = RandomUniform/Add:0, shape = [3, 2], dataType = FLOAT32)\n"
      ]
     },
     "metadata": {},
     "output_type": "display_data"
    },
    {
     "data": {
      "text/plain": [
       "FLOAT32[3, 2]\n",
       "[[0.2713585, 0.8257055],\n",
       " [0.83426976, 0.9168836],\n",
       " [0.6829114, 0.8398231]]"
      ]
     },
     "execution_count": 44,
     "metadata": {},
     "output_type": "execute_result"
    }
   ],
   "source": [
    "val randMatrix = tf.randomUniform(shape = Shape(3,2))\n",
    "session.run(fetches = randMatrix).summarize()"
   ]
  },
  {
   "cell_type": "code",
   "execution_count": 45,
   "metadata": {},
   "outputs": [
    {
     "data": {
      "text/plain": [
       "A = Output(name = Fill_2:0, shape = [3, 3], dataType = INT32)\n",
       "B = Output(name = Fill_3:0, shape = [3, 3], dataType = INT32)\n"
      ]
     },
     "metadata": {},
     "output_type": "display_data"
    },
    {
     "data": {
      "text/plain": [
       "Output(name = Fill_3:0, shape = [3, 3], dataType = INT32)"
      ]
     },
     "execution_count": 45,
     "metadata": {},
     "output_type": "execute_result"
    }
   ],
   "source": [
    "val A = tf.fill(shape = Shape(3,3), 3)\n",
    "val B = tf.fill(shape = Shape(3,3), 2)"
   ]
  },
  {
   "cell_type": "code",
   "execution_count": 47,
   "metadata": {},
   "outputs": [
    {
     "data": {
      "text/plain": [
       "INT32[3, 3]\n",
       "[[5, 5, 5],\n",
       " [5, 5, 5],\n",
       " [5, 5, 5]]"
      ]
     },
     "execution_count": 47,
     "metadata": {},
     "output_type": "execute_result"
    }
   ],
   "source": [
    "session.run(fetches = A+B).summarize()"
   ]
  },
  {
   "cell_type": "code",
   "execution_count": 48,
   "metadata": {},
   "outputs": [
    {
     "data": {
      "text/plain": [
       "INT32[3, 3]\n",
       "[[1, 1, 1],\n",
       " [1, 1, 1],\n",
       " [1, 1, 1]]"
      ]
     },
     "execution_count": 48,
     "metadata": {},
     "output_type": "execute_result"
    }
   ],
   "source": [
    "session.run(fetches = A-B).summarize()"
   ]
  },
  {
   "cell_type": "code",
   "execution_count": 49,
   "metadata": {},
   "outputs": [
    {
     "data": {
      "text/plain": [
       "INT32[3, 3]\n",
       "[[6, 6, 6],\n",
       " [6, 6, 6],\n",
       " [6, 6, 6]]"
      ]
     },
     "execution_count": 49,
     "metadata": {},
     "output_type": "execute_result"
    }
   ],
   "source": [
    "session.run(fetches = A*B).summarize()"
   ]
  },
  {
   "cell_type": "code",
   "execution_count": 50,
   "metadata": {},
   "outputs": [
    {
     "data": {
      "text/plain": [
       "INT32[3, 3]\n",
       "[[18, 18, 18],\n",
       " [18, 18, 18],\n",
       " [18, 18, 18]]"
      ]
     },
     "execution_count": 50,
     "metadata": {},
     "output_type": "execute_result"
    }
   ],
   "source": [
    "session.run(fetches = tf.matmul(A,B)).summarize()"
   ]
  },
  {
   "cell_type": "code",
   "execution_count": 51,
   "metadata": {},
   "outputs": [
    {
     "data": {
      "text/plain": [
       "FLOAT32[2, 3]\n",
       "[[0.36015582, 0.57526064, 0.5414257],\n",
       " [0.9038662, 0.3487574, 0.5220282]]"
      ]
     },
     "execution_count": 51,
     "metadata": {},
     "output_type": "execute_result"
    }
   ],
   "source": [
    "session.run(fetches = tf.transpose(randMatrix)).summarize()"
   ]
  },
  {
   "cell_type": "code",
   "execution_count": null,
   "metadata": {
    "collapsed": true
   },
   "outputs": [],
   "source": []
  }
 ],
 "metadata": {
  "kernelspec": {
   "display_name": "Apache Toree - Scala",
   "language": "scala",
   "name": "apache_toree_scala"
  },
  "language_info": {
   "codemirror_mode": "text/x-scala",
   "file_extension": ".scala",
   "mimetype": "text/x-scala",
   "name": "scala",
   "pygments_lexer": "scala",
   "version": "2.11.8"
  }
 },
 "nbformat": 4,
 "nbformat_minor": 1
}
