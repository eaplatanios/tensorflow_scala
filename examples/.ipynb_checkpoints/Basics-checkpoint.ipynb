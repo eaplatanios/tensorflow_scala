{
 "cells": [
  {
   "cell_type": "markdown",
   "metadata": {},
   "source": [
    "# Toree Setup:\n",
    "- https://toree.apache.org/\n",
    "- http://blog.thedataincubator.com/2017/04/spark-2-0-on-jupyter-with-toree/\n",
    "- https://github.com/apache/incubator-toree/blob/master/etc/examples/notebooks/magic-tutorial.ipynb"
   ]
  },
  {
   "cell_type": "code",
   "execution_count": null,
   "metadata": {},
   "outputs": [],
   "source": [
    "%AddJar file:/opt/iaja/tensorflow_scala/jni/target/tensorflow-jni-0.1.jar"
   ]
  },
  {
   "cell_type": "code",
   "execution_count": null,
   "metadata": {},
   "outputs": [],
   "source": [
    "%AddJar file:/opt/iaja/tensorflow_scala/api/target/scala-2.12/tensorflow-api_2.12-0.1.jar"
   ]
  },
  {
   "cell_type": "code",
   "execution_count": null,
   "metadata": {},
   "outputs": [],
   "source": [
    "%AddJar file:/opt/iaja/tensorflow_scala/data/target/scala-2.12/data_2.12-0.1.jar"
   ]
  },
  {
   "cell_type": "code",
   "execution_count": null,
   "metadata": {},
   "outputs": [],
   "source": [
    "%AddJar file:/opt/iaja/tensorflow_scala/examples/target/scala-2.12/examples_2.12-0.1.jar"
   ]
  },
  {
   "cell_type": "code",
   "execution_count": 1,
   "metadata": {},
   "outputs": [
    {
     "name": "stdout",
     "output_type": "stream",
     "text": [
      "Starting download from file:/opt/iaja/tensorflow_scala/target/scala-2.12/all-assembly-0.1.jar\n",
      "Finished download of all-assembly-0.1.jar\n"
     ]
    },
    {
     "ename": "scala.reflect.internal.FatalError",
     "evalue": "object Predef does not have a member classOf",
     "output_type": "error",
     "traceback": [
      "scala.reflect.internal.Definitions$DefinitionsClass.scala$reflect$internal$Definitions$DefinitionsClass$$fatalMissingSymbol(Definitions.scala:1186)",
      "scala.reflect.internal.Definitions$DefinitionsClass.getMember(Definitions.scala:1203)",
      "scala.reflect.internal.Definitions$DefinitionsClass.getMemberMethod(Definitions.scala:1238)",
      "scala.reflect.internal.Definitions$DefinitionsClass$RunDefinitions.Predef_classOf$lzycompute(Definitions.scala:1469)",
      "scala.reflect.internal.Definitions$DefinitionsClass$RunDefinitions.Predef_classOf(Definitions.scala:1469)",
      "scala.reflect.internal.Definitions$DefinitionsClass$RunDefinitions.isPredefClassOf(Definitions.scala:1459)",
      "scala.tools.nsc.typechecker.Typers$Typer.typedIdent$2(Typers.scala:4885)",
      "scala.tools.nsc.typechecker.Typers$Typer.typedIdentOrWildcard$1(Typers.scala:4908)",
      "scala.tools.nsc.typechecker.Typers$Typer.typedInAnyMode$1(Typers.scala:5340)",
      "scala.tools.nsc.typechecker.Typers$Typer.typed1(Typers.scala:5360)",
      "scala.tools.nsc.typechecker.Typers$Typer.runTyper$1(Typers.scala:5396)",
      "scala.tools.nsc.typechecker.Typers$Typer.scala$tools$nsc$typechecker$Typers$Typer$$typedInternal(Typers.scala:5423)",
      "scala.tools.nsc.typechecker.Typers$Typer.body$2(Typers.scala:5370)",
      "scala.tools.nsc.typechecker.Typers$Typer.typed(Typers.scala:5374)",
      "scala.tools.nsc.interpreter.ReplGlobal$$anon$1$$anon$2.typed(ReplGlobal.scala:36)",
      "scala.tools.nsc.typechecker.Typers$Typer.typedQualifier(Typers.scala:5472)",
      "scala.tools.nsc.typechecker.Typers$Typer.typedQualifier(Typers.scala:5480)",
      "scala.tools.nsc.typechecker.Typers$Typer.typedPackageDef$1(Typers.scala:5012)",
      "scala.tools.nsc.typechecker.Typers$Typer.typedMemberDef$1(Typers.scala:5312)",
      "scala.tools.nsc.typechecker.Typers$Typer.typed1(Typers.scala:5359)",
      "scala.tools.nsc.typechecker.Typers$Typer.runTyper$1(Typers.scala:5396)",
      "scala.tools.nsc.typechecker.Typers$Typer.scala$tools$nsc$typechecker$Typers$Typer$$typedInternal(Typers.scala:5423)",
      "scala.tools.nsc.typechecker.Typers$Typer.body$2(Typers.scala:5370)",
      "scala.tools.nsc.typechecker.Typers$Typer.typed(Typers.scala:5374)",
      "scala.tools.nsc.interpreter.ReplGlobal$$anon$1$$anon$2.typed(ReplGlobal.scala:36)",
      "scala.tools.nsc.typechecker.Typers$Typer.typed(Typers.scala:5448)",
      "scala.tools.nsc.typechecker.Analyzer$typerFactory$$anon$3.apply(Analyzer.scala:102)",
      "scala.tools.nsc.Global$GlobalPhase$$anonfun$applyPhase$1.apply$mcV$sp(Global.scala:440)",
      "scala.tools.nsc.Global$GlobalPhase.withCurrentUnit(Global.scala:431)",
      "scala.tools.nsc.Global$GlobalPhase.applyPhase(Global.scala:440)",
      "scala.tools.nsc.typechecker.Analyzer$typerFactory$$anon$3$$anonfun$run$1.apply(Analyzer.scala:94)",
      "scala.tools.nsc.typechecker.Analyzer$typerFactory$$anon$3$$anonfun$run$1.apply(Analyzer.scala:93)",
      "scala.collection.Iterator$class.foreach(Iterator.scala:893)",
      "scala.collection.AbstractIterator.foreach(Iterator.scala:1336)",
      "scala.tools.nsc.typechecker.Analyzer$typerFactory$$anon$3.run(Analyzer.scala:93)",
      "scala.tools.nsc.Global$Run.compileUnitsInternal(Global.scala:1501)",
      "scala.tools.nsc.Global$Run.compileUnits(Global.scala:1486)",
      "scala.tools.nsc.Global$Run.compileSources(Global.scala:1481)",
      "scala.tools.nsc.interpreter.IMain.compileSourcesKeepingRun(IMain.scala:435)",
      "scala.tools.nsc.interpreter.IMain$ReadEvalPrint.compileAndSaveRun(IMain.scala:855)",
      "scala.tools.nsc.interpreter.IMain$ReadEvalPrint.compile(IMain.scala:813)",
      "scala.tools.nsc.interpreter.IMain.bind(IMain.scala:675)",
      "scala.tools.nsc.interpreter.IMain.bind(IMain.scala:712)",
      "scala.tools.nsc.interpreter.IMain$$anonfun$quietBind$1.apply(IMain.scala:711)",
      "scala.tools.nsc.interpreter.IMain$$anonfun$quietBind$1.apply(IMain.scala:711)",
      "scala.tools.nsc.interpreter.IMain.beQuietDuring(IMain.scala:214)",
      "scala.tools.nsc.interpreter.IMain.quietBind(IMain.scala:711)",
      "scala.tools.nsc.interpreter.IMain.compiled(IMain.scala:587)",
      "scala.tools.nsc.interpreter.IMain.eval(IMain.scala:1074)",
      "javax.script.AbstractScriptEngine.eval(AbstractScriptEngine.java:264)",
      "org.apache.toree.kernel.interpreter.scala.ScalaInterpreterSpecific$class.read(ScalaInterpreterSpecific.scala:262)",
      "org.apache.toree.kernel.interpreter.scala.ScalaInterpreter.read(ScalaInterpreter.scala:44)",
      "org.apache.toree.kernel.protocol.v5.magic.PostProcessor$$anonfun$1.apply(PostProcessor.scala:29)",
      "org.apache.toree.kernel.protocol.v5.magic.PostProcessor$$anonfun$1.apply(PostProcessor.scala:29)",
      "scala.Option.flatMap(Option.scala:171)",
      "org.apache.toree.kernel.protocol.v5.magic.PostProcessor.process(PostProcessor.scala:29)",
      "org.apache.toree.kernel.protocol.v5.relay.ExecuteRequestRelay$$anonfun$org$apache$toree$kernel$protocol$v5$relay$ExecuteRequestRelay$$packageFutureResponse$1.apply(ExecuteRequestRelay.scala:80)",
      "org.apache.toree.kernel.protocol.v5.relay.ExecuteRequestRelay$$anonfun$org$apache$toree$kernel$protocol$v5$relay$ExecuteRequestRelay$$packageFutureResponse$1.apply(ExecuteRequestRelay.scala:77)",
      "scala.util.Success$$anonfun$map$1.apply(Try.scala:237)",
      "scala.util.Try$.apply(Try.scala:192)",
      "scala.util.Success.map(Try.scala:237)",
      "scala.concurrent.Future$$anonfun$map$1.apply(Future.scala:237)",
      "scala.concurrent.Future$$anonfun$map$1.apply(Future.scala:237)",
      "scala.concurrent.impl.CallbackRunnable.run(Promise.scala:32)",
      "akka.dispatch.BatchingExecutor$AbstractBatch.processBatch(BatchingExecutor.scala:55)",
      "akka.dispatch.BatchingExecutor$BlockableBatch$$anonfun$run$1.apply$mcV$sp(BatchingExecutor.scala:91)",
      "akka.dispatch.BatchingExecutor$BlockableBatch$$anonfun$run$1.apply(BatchingExecutor.scala:91)",
      "akka.dispatch.BatchingExecutor$BlockableBatch$$anonfun$run$1.apply(BatchingExecutor.scala:91)",
      "scala.concurrent.BlockContext$.withBlockContext(BlockContext.scala:72)",
      "akka.dispatch.BatchingExecutor$BlockableBatch.run(BatchingExecutor.scala:90)",
      "akka.dispatch.TaskInvocation.run(AbstractDispatcher.scala:39)",
      "akka.dispatch.ForkJoinExecutorConfigurator$AkkaForkJoinTask.exec(AbstractDispatcher.scala:415)",
      "scala.concurrent.forkjoin.ForkJoinTask.doExec(ForkJoinTask.java:260)",
      "scala.concurrent.forkjoin.ForkJoinPool$WorkQueue.runTask(ForkJoinPool.java:1339)",
      "scala.concurrent.forkjoin.ForkJoinPool.runWorker(ForkJoinPool.java:1979)",
      "scala.concurrent.forkjoin.ForkJoinWorkerThread.run(ForkJoinWorkerThread.java:107)"
     ]
    }
   ],
   "source": [
    "%AddJar file:/opt/iaja/tensorflow_scala/target/scala-2.12/all-assembly-0.1.jar"
   ]
  },
  {
   "cell_type": "code",
   "execution_count": null,
   "metadata": {},
   "outputs": [],
   "source": [
    "%AddDeps com.typesafe.scala-logging scala-logging 3.5.0"
   ]
  },
  {
   "cell_type": "code",
   "execution_count": null,
   "metadata": {
    "collapsed": true
   },
   "outputs": [],
   "source": []
  },
  {
   "cell_type": "code",
   "execution_count": null,
   "metadata": {
    "collapsed": true
   },
   "outputs": [],
   "source": [
    "import org.platanios.tensorflow.examples.LinearRegression"
   ]
  },
  {
   "cell_type": "code",
   "execution_count": null,
   "metadata": {},
   "outputs": [],
   "source": [
    "LinearRegression.main(Array(\"\"))"
   ]
  },
  {
   "cell_type": "code",
   "execution_count": null,
   "metadata": {},
   "outputs": [],
   "source": [
    "%py_spark\n",
    "d = []"
   ]
  },
  {
   "cell_type": "code",
   "execution_count": null,
   "metadata": {
    "collapsed": true
   },
   "outputs": [],
   "source": []
  }
 ],
 "metadata": {
  "kernelspec": {
   "display_name": "ToreeSpark - Scala",
   "language": "scala",
   "name": "toreespark_scala"
  },
  "language_info": {
   "codemirror_mode": "text/x-scala",
   "file_extension": ".scala",
   "mimetype": "text/x-scala",
   "name": "scala",
   "pygments_lexer": "scala",
   "version": "2.11.8"
  }
 },
 "nbformat": 4,
 "nbformat_minor": 2
}
